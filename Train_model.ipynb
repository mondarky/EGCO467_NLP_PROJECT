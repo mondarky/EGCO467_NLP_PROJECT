{
 "cells": [
  {
   "cell_type": "code",
   "execution_count": 10,
   "metadata": {},
   "outputs": [],
   "source": [
    "import pandas as pd\n",
    "import numpy as np\n",
    "import matplotlib as plt\n",
    "import json\n",
    "import jsonlines\n",
    "\n",
    "import tensorflow as tf\n",
    "\n",
    "from tensorflow import keras\n",
    "from tensorflow.keras import Model\n",
    "from tensorflow.keras.layers import Dense, Flatten, Dropout, LSTM, Embedding, Input, Bidirectional, Conv1D, MaxPool1D\n",
    "from tensorflow.keras.losses import SparseCategoricalCrossentropy\n",
    "from tensorflow.keras.losses import mse\n",
    "from tensorflow.keras.optimizers import RMSprop\n",
    "from tensorflow.keras.optimizers import Adam"
   ]
  },
  {
   "cell_type": "code",
   "execution_count": 11,
   "metadata": {
    "scrolled": true
   },
   "outputs": [],
   "source": [
    "result = pd.read_pickle('Dataset/Cleanded.pkl')"
   ]
  },
  {
   "cell_type": "code",
   "execution_count": 12,
   "metadata": {},
   "outputs": [],
   "source": [
    "tv        = result['TV'].tolist()\n",
    "fintech   = result['FinTech'].tolist()\n",
    "iot       = result['IoT'].tolist()\n",
    "insurance = result['Insurance'].tolist()\n",
    "mbb       = result['MBB'].tolist()\n",
    "fbb       = result['FBB'].tolist()\n",
    "e_sport   = result['E-Sport'].tolist()\n",
    "other     = result['Other'].tolist()"
   ]
  },
  {
   "cell_type": "code",
   "execution_count": 13,
   "metadata": {},
   "outputs": [],
   "source": [
    "import fasttext\n",
    "\n",
    "# load saved into python\n",
    "model = fasttext.load_model('cc.th.300.bin')"
   ]
  },
  {
   "cell_type": "code",
   "execution_count": 14,
   "metadata": {},
   "outputs": [],
   "source": [
    "def text_reshaper(text_list, reshaped_text_list, MAX_LENGTH):\n",
    "  for i in range(text_list.shape[0]-1):\n",
    "     if len(text_list[i]) >= MAX_LENGTH:\n",
    "         reshaped_text_list[i, :] = text_list[i][0:MAX_LENGTH]\n",
    "     else:\n",
    "         reshaped_text_list[i, 0:len(text_list[i])] = text_list[i]\n",
    "         reshaped_text_list[i, len(text_list[i]):] = \" \"\n",
    "         \n",
    "  return reshaped_text_list"
   ]
  },
  {
   "cell_type": "code",
   "execution_count": 15,
   "metadata": {},
   "outputs": [],
   "source": [
    "lines_of_file = []\n",
    "lines = []\n",
    "with open('Dataset/tokenize.txt', 'r', encoding=\"utf-8\") as f:\n",
    "  lines_of_file = f.readlines()\n",
    "  for oneline in lines_of_file:\n",
    "    lines.append(oneline.split(\" \"))"
   ]
  },
  {
   "cell_type": "code",
   "execution_count": 16,
   "metadata": {},
   "outputs": [],
   "source": [
    "# Clear the space element out of token list\n",
    "for item in lines:\n",
    "  for element in item:\n",
    "    if(element == ''):\n",
    "      item.remove(element)"
   ]
  },
  {
   "cell_type": "code",
   "execution_count": 17,
   "metadata": {},
   "outputs": [],
   "source": [
    "# RESHAPE THE DATA \n",
    "MAX_LENGTH = 300\n",
    "\n",
    "y_train = np.array(mbb[:1362])\n",
    "y_test = np.array(mbb[1362: 19450])\n",
    "\n",
    "texts_token_list_reshaped = np.zeros([1945, MAX_LENGTH], dtype=np.object)\n",
    "texts_token_list = np.array(lines, dtype=np.object)\n",
    "texts_token_list_reshaped = text_reshaper(texts_token_list, texts_token_list_reshaped, MAX_LENGTH)"
   ]
  },
  {
   "cell_type": "code",
   "execution_count": 18,
   "metadata": {},
   "outputs": [],
   "source": [
    "input = Input((MAX_LENGTH,model.get_dimension()))\n",
    "\n",
    "x = Conv1D(32,3,padding='same',activation='relu')(input)\n",
    "x = MaxPool1D()(x)\n",
    "x = Bidirectional(LSTM(128, return_sequences=True))(x)\n",
    "x = Bidirectional(LSTM(64, return_sequences=False))(x)\n",
    "x = Dense(64, activation='relu')(x)\n",
    "x = Dropout(0.2)(x)\n",
    "x = Dense(32, activation='relu')(x)\n",
    "\n",
    "out = Dense(2, activation='softmax')(x)"
   ]
  },
  {
   "cell_type": "code",
   "execution_count": 19,
   "metadata": {},
   "outputs": [
    {
     "name": "stdout",
     "output_type": "stream",
     "text": [
      "Model: \"functional_1\"\n",
      "_________________________________________________________________\n",
      "Layer (type)                 Output Shape              Param #   \n",
      "=================================================================\n",
      "input_1 (InputLayer)         [(None, 300, 300)]        0         \n",
      "_________________________________________________________________\n",
      "conv1d (Conv1D)              (None, 300, 32)           28832     \n",
      "_________________________________________________________________\n",
      "max_pooling1d (MaxPooling1D) (None, 150, 32)           0         \n",
      "_________________________________________________________________\n",
      "bidirectional (Bidirectional (None, 150, 256)          164864    \n",
      "_________________________________________________________________\n",
      "bidirectional_1 (Bidirection (None, 128)               164352    \n",
      "_________________________________________________________________\n",
      "dense (Dense)                (None, 64)                8256      \n",
      "_________________________________________________________________\n",
      "dropout (Dropout)            (None, 64)                0         \n",
      "_________________________________________________________________\n",
      "dense_1 (Dense)              (None, 32)                2080      \n",
      "_________________________________________________________________\n",
      "dense_2 (Dense)              (None, 2)                 66        \n",
      "=================================================================\n",
      "Total params: 368,450\n",
      "Trainable params: 368,450\n",
      "Non-trainable params: 0\n",
      "_________________________________________________________________\n"
     ]
    }
   ],
   "source": [
    "wn_sentiment_model = Model(input, out)\n",
    "wn_sentiment_model.summary()"
   ]
  },
  {
   "cell_type": "code",
   "execution_count": 20,
   "metadata": {},
   "outputs": [
    {
     "ename": "TypeError",
     "evalue": "getWordVector(): incompatible function arguments. The following argument types are supported:\n    1. (self: fasttext_pybind.fasttext, arg0: fasttext_pybind.Vector, arg1: str) -> None\n\nInvoked with: <fasttext_pybind.fasttext object at 0x0000019B408B98B0>, <fasttext_pybind.Vector object at 0x0000019D0C731F30>, 0",
     "output_type": "error",
     "traceback": [
      "\u001b[1;31m---------------------------------------------------------------------------\u001b[0m",
      "\u001b[1;31mTypeError\u001b[0m                                 Traceback (most recent call last)",
      "\u001b[1;32m<ipython-input-20-be89b731148f>\u001b[0m in \u001b[0;36m<module>\u001b[1;34m\u001b[0m\n\u001b[0;32m      4\u001b[0m \u001b[1;32mfor\u001b[0m \u001b[0mtext\u001b[0m \u001b[1;32min\u001b[0m \u001b[0mrange\u001b[0m\u001b[1;33m(\u001b[0m\u001b[0mfasttext_vec\u001b[0m\u001b[1;33m.\u001b[0m\u001b[0mshape\u001b[0m\u001b[1;33m[\u001b[0m\u001b[1;36m0\u001b[0m\u001b[1;33m]\u001b[0m\u001b[1;33m)\u001b[0m\u001b[1;33m:\u001b[0m\u001b[1;33m\u001b[0m\u001b[1;33m\u001b[0m\u001b[0m\n\u001b[0;32m      5\u001b[0m   \u001b[1;32mfor\u001b[0m \u001b[0mword\u001b[0m \u001b[1;32min\u001b[0m \u001b[0mrange\u001b[0m\u001b[1;33m(\u001b[0m\u001b[0mfasttext_vec\u001b[0m\u001b[1;33m.\u001b[0m\u001b[0mshape\u001b[0m\u001b[1;33m[\u001b[0m\u001b[1;36m1\u001b[0m\u001b[1;33m]\u001b[0m\u001b[1;33m)\u001b[0m\u001b[1;33m:\u001b[0m\u001b[1;33m\u001b[0m\u001b[1;33m\u001b[0m\u001b[0m\n\u001b[1;32m----> 6\u001b[1;33m       \u001b[0mfasttext_vec\u001b[0m\u001b[1;33m[\u001b[0m\u001b[0mtext\u001b[0m\u001b[1;33m]\u001b[0m\u001b[1;33m[\u001b[0m\u001b[0mword\u001b[0m\u001b[1;33m]\u001b[0m \u001b[1;33m=\u001b[0m \u001b[0mmodel\u001b[0m\u001b[1;33m.\u001b[0m\u001b[0mget_word_vector\u001b[0m\u001b[1;33m(\u001b[0m\u001b[0mtexts_token_list_reshaped\u001b[0m\u001b[1;33m[\u001b[0m\u001b[0mtext\u001b[0m\u001b[1;33m]\u001b[0m\u001b[1;33m[\u001b[0m\u001b[0mword\u001b[0m\u001b[1;33m]\u001b[0m\u001b[1;33m)\u001b[0m\u001b[1;33m\u001b[0m\u001b[1;33m\u001b[0m\u001b[0m\n\u001b[0m",
      "\u001b[1;32m~\\Anaconda3\\lib\\site-packages\\fasttext\\FastText.py\u001b[0m in \u001b[0;36mget_word_vector\u001b[1;34m(self, word)\u001b[0m\n\u001b[0;32m    118\u001b[0m         \u001b[0mdim\u001b[0m \u001b[1;33m=\u001b[0m \u001b[0mself\u001b[0m\u001b[1;33m.\u001b[0m\u001b[0mget_dimension\u001b[0m\u001b[1;33m(\u001b[0m\u001b[1;33m)\u001b[0m\u001b[1;33m\u001b[0m\u001b[1;33m\u001b[0m\u001b[0m\n\u001b[0;32m    119\u001b[0m         \u001b[0mb\u001b[0m \u001b[1;33m=\u001b[0m \u001b[0mfasttext\u001b[0m\u001b[1;33m.\u001b[0m\u001b[0mVector\u001b[0m\u001b[1;33m(\u001b[0m\u001b[0mdim\u001b[0m\u001b[1;33m)\u001b[0m\u001b[1;33m\u001b[0m\u001b[1;33m\u001b[0m\u001b[0m\n\u001b[1;32m--> 120\u001b[1;33m         \u001b[0mself\u001b[0m\u001b[1;33m.\u001b[0m\u001b[0mf\u001b[0m\u001b[1;33m.\u001b[0m\u001b[0mgetWordVector\u001b[0m\u001b[1;33m(\u001b[0m\u001b[0mb\u001b[0m\u001b[1;33m,\u001b[0m \u001b[0mword\u001b[0m\u001b[1;33m)\u001b[0m\u001b[1;33m\u001b[0m\u001b[1;33m\u001b[0m\u001b[0m\n\u001b[0m\u001b[0;32m    121\u001b[0m         \u001b[1;32mreturn\u001b[0m \u001b[0mnp\u001b[0m\u001b[1;33m.\u001b[0m\u001b[0marray\u001b[0m\u001b[1;33m(\u001b[0m\u001b[0mb\u001b[0m\u001b[1;33m)\u001b[0m\u001b[1;33m\u001b[0m\u001b[1;33m\u001b[0m\u001b[0m\n\u001b[0;32m    122\u001b[0m \u001b[1;33m\u001b[0m\u001b[0m\n",
      "\u001b[1;31mTypeError\u001b[0m: getWordVector(): incompatible function arguments. The following argument types are supported:\n    1. (self: fasttext_pybind.fasttext, arg0: fasttext_pybind.Vector, arg1: str) -> None\n\nInvoked with: <fasttext_pybind.fasttext object at 0x0000019B408B98B0>, <fasttext_pybind.Vector object at 0x0000019D0C731F30>, 0"
     ]
    }
   ],
   "source": [
    "# Create embeded input vector (takes a while)\n",
    "fasttext_vec = np.zeros((1945, MAX_LENGTH, 300), dtype=np.float_)\n",
    "\n",
    "for text in range(fasttext_vec.shape[0]):\n",
    "  for word in range(fasttext_vec.shape[1]):\n",
    "      fasttext_vec[text][word] = model.get_word_vector(texts_token_list_reshaped[text][word])\n"
   ]
  },
  {
   "cell_type": "code",
   "execution_count": 21,
   "metadata": {},
   "outputs": [],
   "source": [
    "x_train = fasttext_vec[:1362]\n",
    "x_test = fasttext_vec[1362: 1945]\n",
    "\n",
    "y_train_tv = tv[:1362]\n",
    "y_test_tv = tv[1362: 1945]\n",
    "y_train_fintech = fintech[:1362]\n",
    "y_test_fintech = fintech[1362: 1945]\n",
    "y_train_iot = iot[:1362]\n",
    "y_test_iot = iot[1362: 1945]\n",
    "y_train_insurance = insurance[:1362]\n",
    "y_test_insurance = insurance[1362: 1945]\n",
    "y_train_mbb = mbb[:1362]\n",
    "y_test_mbb = mbb[1362: 1945]\n",
    "y_train_fbb = fbb[:1362]\n",
    "y_test_fbb = fbb[1362: 1945]\n",
    "y_train_e_sport = e_sport[:1362]\n",
    "y_test_e_sport = e_sport[1362: 1945]\n",
    "y_train_other = other[:1362]\n",
    "y_test_other = other[1362: 1945]"
   ]
  },
  {
   "cell_type": "code",
   "execution_count": 22,
   "metadata": {},
   "outputs": [],
   "source": [
    "x_train = np.array(x_train)\n",
    "x_test = np.array(x_test)\n",
    "\n",
    "y_train_tv = np.array(y_train_tv)\n",
    "y_test_tv = np.array(y_test_tv)\n",
    "y_train_fintech = np.array(y_train_fintech)\n",
    "y_test_fintech = np.array(y_test_fintech)\n",
    "y_train_iot = np.array(y_train_iot)\n",
    "y_test_iot = np.array(y_test_iot)\n",
    "y_train_insurance = np.array(y_train_insurance)\n",
    "y_test_insurance = np.array(y_test_insurance)\n",
    "y_train_mbb = np.array(y_train_mbb)\n",
    "y_test_mbb = np.array(y_test_mbb)\n",
    "y_train_fbb = np.array(y_train_fbb)\n",
    "y_test_fbb = np.array(y_test_fbb)\n",
    "y_train_e_sport = np.array(y_train_e_sport)\n",
    "y_test_e_sport = np.array(y_test_e_sport)\n",
    "y_train_other = np.array(y_train_other)\n",
    "y_test_other = np.array(y_test_other)"
   ]
  },
  {
   "cell_type": "code",
   "execution_count": 19,
   "metadata": {},
   "outputs": [],
   "source": [
    "wn_sentiment_model.compile(\n",
    "    optimizer=RMSprop(learning_rate=0.0005, momentum=0.9),\n",
    "    loss='sparse_categorical_crossentropy',\n",
    "    metrics=['accuracy'])"
   ]
  },
  {
   "cell_type": "code",
   "execution_count": 20,
   "metadata": {},
   "outputs": [],
   "source": [
    "model_checkpoint_callback_tv = tf.keras.callbacks.ModelCheckpoint(\n",
    "    filepath=\"./checkpoint_tv\",\n",
    "    save_best_only=True)"
   ]
  },
  {
   "cell_type": "code",
   "execution_count": 21,
   "metadata": {},
   "outputs": [
    {
     "name": "stdout",
     "output_type": "stream",
     "text": [
      "Epoch 1/10\n",
      "43/43 [==============================] - ETA: 0s - loss: 0.3437 - accuracy: 0.9148WARNING:tensorflow:From C:\\Users\\James\\Anaconda3\\lib\\site-packages\\tensorflow\\python\\training\\tracking\\tracking.py:111: Model.state_updates (from tensorflow.python.keras.engine.training) is deprecated and will be removed in a future version.\n",
      "Instructions for updating:\n",
      "This property should not be used in TensorFlow 2.0, as updates are applied automatically.\n",
      "WARNING:tensorflow:From C:\\Users\\James\\Anaconda3\\lib\\site-packages\\tensorflow\\python\\training\\tracking\\tracking.py:111: Layer.updates (from tensorflow.python.keras.engine.base_layer) is deprecated and will be removed in a future version.\n",
      "Instructions for updating:\n",
      "This property should not be used in TensorFlow 2.0, as updates are applied automatically.\n",
      "INFO:tensorflow:Assets written to: .\\checkpoint_tv\\assets\n",
      "43/43 [==============================] - 21s 493ms/step - loss: 0.3437 - accuracy: 0.9148 - val_loss: 0.2983 - val_accuracy: 0.9262\n",
      "Epoch 2/10\n",
      "43/43 [==============================] - ETA: 0s - loss: 0.3076 - accuracy: 0.9148INFO:tensorflow:Assets written to: .\\checkpoint_tv\\assets\n",
      "43/43 [==============================] - 19s 451ms/step - loss: 0.3076 - accuracy: 0.9148 - val_loss: 0.2773 - val_accuracy: 0.9262\n",
      "Epoch 3/10\n",
      "42/43 [============================>.] - ETA: 0s - loss: 0.3001 - accuracy: 0.9152INFO:tensorflow:Assets written to: .\\checkpoint_tv\\assets\n",
      "43/43 [==============================] - 20s 456ms/step - loss: 0.3009 - accuracy: 0.9148 - val_loss: 0.2619 - val_accuracy: 0.9262\n",
      "Epoch 4/10\n",
      "43/43 [==============================] - 3s 61ms/step - loss: 0.3002 - accuracy: 0.9148 - val_loss: 0.2634 - val_accuracy: 0.9262\n",
      "Epoch 5/10\n",
      "42/43 [============================>.] - ETA: 0s - loss: 0.2985 - accuracy: 0.9152INFO:tensorflow:Assets written to: .\\checkpoint_tv\\assets\n",
      "43/43 [==============================] - 20s 458ms/step - loss: 0.2991 - accuracy: 0.9148 - val_loss: 0.2593 - val_accuracy: 0.9262\n",
      "Epoch 6/10\n",
      "43/43 [==============================] - 2s 58ms/step - loss: 0.2831 - accuracy: 0.9148 - val_loss: 0.2657 - val_accuracy: 0.9262\n",
      "Epoch 7/10\n",
      "43/43 [==============================] - ETA: 0s - loss: 0.2639 - accuracy: 0.9148INFO:tensorflow:Assets written to: .\\checkpoint_tv\\assets\n",
      "43/43 [==============================] - 19s 444ms/step - loss: 0.2639 - accuracy: 0.9148 - val_loss: 0.2404 - val_accuracy: 0.9262\n",
      "Epoch 8/10\n",
      "43/43 [==============================] - ETA: 0s - loss: 0.2350 - accuracy: 0.9148INFO:tensorflow:Assets written to: .\\checkpoint_tv\\assets\n",
      "43/43 [==============================] - 19s 447ms/step - loss: 0.2350 - accuracy: 0.9148 - val_loss: 0.2338 - val_accuracy: 0.9262\n",
      "Epoch 9/10\n",
      "43/43 [==============================] - ETA: 0s - loss: 0.2129 - accuracy: 0.9148INFO:tensorflow:Assets written to: .\\checkpoint_tv\\assets\n",
      "43/43 [==============================] - 19s 437ms/step - loss: 0.2129 - accuracy: 0.9148 - val_loss: 0.2206 - val_accuracy: 0.9280\n",
      "Epoch 10/10\n",
      "43/43 [==============================] - ETA: 0s - loss: 0.1918 - accuracy: 0.9310INFO:tensorflow:Assets written to: .\\checkpoint_tv\\assets\n",
      "43/43 [==============================] - 19s 439ms/step - loss: 0.1918 - accuracy: 0.9310 - val_loss: 0.2038 - val_accuracy: 0.9297\n"
     ]
    }
   ],
   "source": [
    "model_tv = wn_sentiment_model.fit(x_train, y_train_tv, validation_data=(x_test,y_test_tv), epochs=10, callbacks=model_checkpoint_callback_tv)"
   ]
  },
  {
   "cell_type": "code",
   "execution_count": 22,
   "metadata": {},
   "outputs": [],
   "source": [
    "model_tv = keras.models.load_model(\"./checkpoint_tv\")"
   ]
  },
  {
   "cell_type": "code",
   "execution_count": 23,
   "metadata": {},
   "outputs": [
    {
     "name": "stdout",
     "output_type": "stream",
     "text": [
      "19/19 - 0s - loss: 0.2038 - accuracy: 0.9520\n"
     ]
    },
    {
     "data": {
      "text/plain": [
       "[0.20377884805202484, 0.9519725441932678]"
      ]
     },
     "execution_count": 23,
     "metadata": {},
     "output_type": "execute_result"
    }
   ],
   "source": [
    "model_tv.evaluate(x_test,  y_test_tv, verbose=2)"
   ]
  },
  {
   "cell_type": "code",
   "execution_count": 24,
   "metadata": {},
   "outputs": [],
   "source": [
    "# Fintech\n",
    "\n",
    "model_checkpoint_callback_fintech = tf.keras.callbacks.ModelCheckpoint(\n",
    "    filepath=\"./checkpoint_fintech\",\n",
    "    save_best_only=True)"
   ]
  },
  {
   "cell_type": "code",
   "execution_count": 25,
   "metadata": {},
   "outputs": [
    {
     "name": "stdout",
     "output_type": "stream",
     "text": [
      "Epoch 1/10\n",
      "42/43 [============================>.] - ETA: 0s - loss: 0.3528 - accuracy: 0.8914INFO:tensorflow:Assets written to: .\\checkpoint_fintech\\assets\n",
      "43/43 [==============================] - 19s 436ms/step - loss: 0.3504 - accuracy: 0.8928 - val_loss: 0.3046 - val_accuracy: 0.9194\n",
      "Epoch 2/10\n",
      "43/43 [==============================] - ETA: 0s - loss: 0.2974 - accuracy: 0.9053INFO:tensorflow:Assets written to: .\\checkpoint_fintech\\assets\n",
      "43/43 [==============================] - 20s 457ms/step - loss: 0.2974 - accuracy: 0.9053 - val_loss: 0.2752 - val_accuracy: 0.9194\n",
      "Epoch 3/10\n",
      "43/43 [==============================] - 3s 63ms/step - loss: 0.2664 - accuracy: 0.9053 - val_loss: 0.3238 - val_accuracy: 0.9194\n",
      "Epoch 4/10\n",
      "43/43 [==============================] - 3s 59ms/step - loss: 0.2493 - accuracy: 0.9053 - val_loss: 0.2950 - val_accuracy: 0.9194\n",
      "Epoch 5/10\n",
      "43/43 [==============================] - 3s 59ms/step - loss: 0.2358 - accuracy: 0.9053 - val_loss: 0.3128 - val_accuracy: 0.9194\n",
      "Epoch 6/10\n",
      "43/43 [==============================] - 3s 64ms/step - loss: 0.2191 - accuracy: 0.9053 - val_loss: 0.3400 - val_accuracy: 0.9194\n",
      "Epoch 7/10\n",
      "43/43 [==============================] - 3s 59ms/step - loss: 0.2039 - accuracy: 0.9068 - val_loss: 0.3389 - val_accuracy: 0.9039\n",
      "Epoch 8/10\n",
      "43/43 [==============================] - 3s 60ms/step - loss: 0.2002 - accuracy: 0.9126 - val_loss: 0.3579 - val_accuracy: 0.8954\n",
      "Epoch 9/10\n",
      "43/43 [==============================] - 3s 60ms/step - loss: 0.1883 - accuracy: 0.9214 - val_loss: 0.4324 - val_accuracy: 0.9022\n",
      "Epoch 10/10\n",
      "43/43 [==============================] - 3s 61ms/step - loss: 0.1805 - accuracy: 0.9141 - val_loss: 0.3872 - val_accuracy: 0.8714\n"
     ]
    },
    {
     "data": {
      "text/plain": [
       "<tensorflow.python.keras.callbacks.History at 0x1e29d4cc208>"
      ]
     },
     "execution_count": 25,
     "metadata": {},
     "output_type": "execute_result"
    }
   ],
   "source": [
    "wn_sentiment_model.fit(x_train, \n",
    "                      y_train_fintech, \n",
    "                      validation_data=(x_test,y_test_fintech), \n",
    "                      epochs=10, \n",
    "                      callbacks=model_checkpoint_callback_fintech)"
   ]
  },
  {
   "cell_type": "code",
   "execution_count": 26,
   "metadata": {},
   "outputs": [
    {
     "name": "stdout",
     "output_type": "stream",
     "text": [
      "19/19 - 0s - loss: 0.2752 - accuracy: 1.0000\n"
     ]
    },
    {
     "data": {
      "text/plain": [
       "[0.2752346992492676, 1.0]"
      ]
     },
     "execution_count": 26,
     "metadata": {},
     "output_type": "execute_result"
    }
   ],
   "source": [
    "model_fintech = keras.models.load_model(\"./checkpoint_fintech\")\n",
    "\n",
    "model_fintech.evaluate(x_test,  y_test_fintech, verbose=2)"
   ]
  },
  {
   "cell_type": "code",
   "execution_count": 27,
   "metadata": {},
   "outputs": [],
   "source": [
    "# IoT\n",
    "\n",
    "model_checkpoint_callback_iot = tf.keras.callbacks.ModelCheckpoint(\n",
    "                                                filepath=\"./checkpoint_iot\",\n",
    "                                                save_best_only=True)"
   ]
  },
  {
   "cell_type": "code",
   "execution_count": 28,
   "metadata": {},
   "outputs": [
    {
     "name": "stdout",
     "output_type": "stream",
     "text": [
      "Epoch 1/10\n",
      "43/43 [==============================] - ETA: 0s - loss: 0.5057 - accuracy: 0.8179INFO:tensorflow:Assets written to: .\\checkpoint_iot\\assets\n",
      "43/43 [==============================] - 21s 487ms/step - loss: 0.5057 - accuracy: 0.8179 - val_loss: 0.4599 - val_accuracy: 0.8233\n",
      "Epoch 2/10\n",
      "43/43 [==============================] - ETA: 0s - loss: 0.4398 - accuracy: 0.8289INFO:tensorflow:Assets written to: .\\checkpoint_iot\\assets\n",
      "43/43 [==============================] - 21s 487ms/step - loss: 0.4398 - accuracy: 0.8289 - val_loss: 0.4542 - val_accuracy: 0.8233\n",
      "Epoch 3/10\n",
      "43/43 [==============================] - ETA: 0s - loss: 0.4032 - accuracy: 0.8289INFO:tensorflow:Assets written to: .\\checkpoint_iot\\assets\n",
      "43/43 [==============================] - 21s 491ms/step - loss: 0.4032 - accuracy: 0.8289 - val_loss: 0.4475 - val_accuracy: 0.8233\n",
      "Epoch 4/10\n",
      "43/43 [==============================] - 3s 61ms/step - loss: 0.3554 - accuracy: 0.8414 - val_loss: 0.4609 - val_accuracy: 0.8130\n",
      "Epoch 5/10\n",
      "43/43 [==============================] - 3s 61ms/step - loss: 0.3315 - accuracy: 0.8502 - val_loss: 0.4890 - val_accuracy: 0.7753\n",
      "Epoch 6/10\n",
      "43/43 [==============================] - 3s 59ms/step - loss: 0.3250 - accuracy: 0.8517 - val_loss: 0.5231 - val_accuracy: 0.8010\n",
      "Epoch 7/10\n",
      "43/43 [==============================] - 3s 63ms/step - loss: 0.3022 - accuracy: 0.8642 - val_loss: 0.6060 - val_accuracy: 0.7942\n",
      "Epoch 8/10\n",
      "43/43 [==============================] - 3s 65ms/step - loss: 0.3064 - accuracy: 0.8686 - val_loss: 0.5874 - val_accuracy: 0.8062\n",
      "Epoch 9/10\n",
      "43/43 [==============================] - 3s 60ms/step - loss: 0.2922 - accuracy: 0.8649 - val_loss: 0.5698 - val_accuracy: 0.7959\n",
      "Epoch 10/10\n",
      "43/43 [==============================] - 3s 60ms/step - loss: 0.2877 - accuracy: 0.8590 - val_loss: 0.7321 - val_accuracy: 0.8045\n"
     ]
    },
    {
     "data": {
      "text/plain": [
       "<tensorflow.python.keras.callbacks.History at 0x1e22c2d7248>"
      ]
     },
     "execution_count": 28,
     "metadata": {},
     "output_type": "execute_result"
    }
   ],
   "source": [
    "# IoT\n",
    "\n",
    "wn_sentiment_model.fit(x_train, \n",
    "                      y_train_iot, \n",
    "                      validation_data=(x_test,y_test_iot), \n",
    "                      epochs=10, \n",
    "                      callbacks=model_checkpoint_callback_iot)"
   ]
  },
  {
   "cell_type": "code",
   "execution_count": 29,
   "metadata": {},
   "outputs": [
    {
     "name": "stdout",
     "output_type": "stream",
     "text": [
      "19/19 - 1s - loss: 0.4475 - accuracy: 1.0000\n"
     ]
    },
    {
     "data": {
      "text/plain": [
       "[0.4474872648715973, 1.0]"
      ]
     },
     "execution_count": 29,
     "metadata": {},
     "output_type": "execute_result"
    }
   ],
   "source": [
    "# IoT\n",
    "\n",
    "model_iot = keras.models.load_model(\"./checkpoint_iot\")\n",
    "\n",
    "model_iot.evaluate(x_test,  y_test_iot, verbose=2)"
   ]
  },
  {
   "cell_type": "code",
   "execution_count": 30,
   "metadata": {},
   "outputs": [],
   "source": [
    "# Insurance\n",
    "\n",
    "model_checkpoint_callback_insurance = tf.keras.callbacks.ModelCheckpoint(\n",
    "                                                filepath=\"./checkpoint_insurance\",\n",
    "                                                save_best_only=True)"
   ]
  },
  {
   "cell_type": "code",
   "execution_count": 31,
   "metadata": {},
   "outputs": [
    {
     "name": "stdout",
     "output_type": "stream",
     "text": [
      "Epoch 1/10\n",
      "43/43 [==============================] - ETA: 0s - loss: 0.2086 - accuracy: 0.9435INFO:tensorflow:Assets written to: .\\checkpoint_insurance\\assets\n",
      "43/43 [==============================] - 21s 486ms/step - loss: 0.2086 - accuracy: 0.9435 - val_loss: 0.1660 - val_accuracy: 0.9640\n",
      "Epoch 2/10\n",
      "43/43 [==============================] - ETA: 0s - loss: 0.1477 - accuracy: 0.9684INFO:tensorflow:Assets written to: .\\checkpoint_insurance\\assets\n",
      "43/43 [==============================] - 20s 470ms/step - loss: 0.1477 - accuracy: 0.9684 - val_loss: 0.1655 - val_accuracy: 0.9640\n",
      "Epoch 3/10\n",
      "43/43 [==============================] - 2s 57ms/step - loss: 0.1336 - accuracy: 0.9684 - val_loss: 0.1969 - val_accuracy: 0.9640\n",
      "Epoch 4/10\n",
      "43/43 [==============================] - 2s 57ms/step - loss: 0.1375 - accuracy: 0.9684 - val_loss: 0.2002 - val_accuracy: 0.9640\n",
      "Epoch 5/10\n",
      "43/43 [==============================] - 2s 57ms/step - loss: 0.1172 - accuracy: 0.9684 - val_loss: 0.2602 - val_accuracy: 0.9640\n",
      "Epoch 6/10\n",
      "43/43 [==============================] - 2s 58ms/step - loss: 0.1071 - accuracy: 0.9684 - val_loss: 0.2992 - val_accuracy: 0.9640\n",
      "Epoch 7/10\n",
      "43/43 [==============================] - 3s 58ms/step - loss: 0.1117 - accuracy: 0.9684 - val_loss: 0.3930 - val_accuracy: 0.9640\n",
      "Epoch 8/10\n",
      "43/43 [==============================] - 3s 59ms/step - loss: 0.0974 - accuracy: 0.9684 - val_loss: 0.3694 - val_accuracy: 0.9640\n",
      "Epoch 9/10\n",
      "43/43 [==============================] - 2s 58ms/step - loss: 0.0956 - accuracy: 0.9684 - val_loss: 0.4088 - val_accuracy: 0.9640\n",
      "Epoch 10/10\n",
      "43/43 [==============================] - 3s 60ms/step - loss: 0.0955 - accuracy: 0.9684 - val_loss: 0.4569 - val_accuracy: 0.9640\n"
     ]
    },
    {
     "data": {
      "text/plain": [
       "<tensorflow.python.keras.callbacks.History at 0x1e23047d5c8>"
      ]
     },
     "execution_count": 31,
     "metadata": {},
     "output_type": "execute_result"
    }
   ],
   "source": [
    "# Insurance\n",
    "\n",
    "wn_sentiment_model.fit(x_train, \n",
    "                      y_train_insurance, \n",
    "                      validation_data=(x_test,y_test_insurance), \n",
    "                      epochs=10, \n",
    "                      callbacks=model_checkpoint_callback_insurance)"
   ]
  },
  {
   "cell_type": "code",
   "execution_count": 32,
   "metadata": {},
   "outputs": [
    {
     "name": "stdout",
     "output_type": "stream",
     "text": [
      "19/19 - 0s - loss: 0.1655 - accuracy: 1.0000\n"
     ]
    },
    {
     "data": {
      "text/plain": [
       "[0.1655135154724121, 1.0]"
      ]
     },
     "execution_count": 32,
     "metadata": {},
     "output_type": "execute_result"
    }
   ],
   "source": [
    "# Insurance\n",
    "\n",
    "model_insurance = keras.models.load_model(\"./checkpoint_insurance\")\n",
    "\n",
    "model_insurance.evaluate(x_test,  y_test_insurance, verbose=2)"
   ]
  },
  {
   "cell_type": "code",
   "execution_count": 33,
   "metadata": {},
   "outputs": [],
   "source": [
    "# MBB\n",
    "\n",
    "model_checkpoint_callback_mbb = tf.keras.callbacks.ModelCheckpoint(\n",
    "                                                filepath=\"./checkpoint_mbb\",\n",
    "                                                save_best_only=True)"
   ]
  },
  {
   "cell_type": "code",
   "execution_count": 34,
   "metadata": {},
   "outputs": [
    {
     "name": "stdout",
     "output_type": "stream",
     "text": [
      "Epoch 1/10\n",
      "43/43 [==============================] - ETA: 0s - loss: 1.2457 - accuracy: 0.5374INFO:tensorflow:Assets written to: .\\checkpoint_mbb\\assets\n",
      "43/43 [==============================] - 21s 497ms/step - loss: 1.2457 - accuracy: 0.5374 - val_loss: 0.6825 - val_accuracy: 0.5660\n",
      "Epoch 2/10\n",
      "43/43 [==============================] - ETA: 0s - loss: 0.6786 - accuracy: 0.5683INFO:tensorflow:Assets written to: .\\checkpoint_mbb\\assets\n",
      "43/43 [==============================] - 21s 495ms/step - loss: 0.6786 - accuracy: 0.5683 - val_loss: 0.6725 - val_accuracy: 0.5660\n",
      "Epoch 3/10\n",
      "43/43 [==============================] - ETA: 0s - loss: 0.6725 - accuracy: 0.5690INFO:tensorflow:Assets written to: .\\checkpoint_mbb\\assets\n",
      "43/43 [==============================] - 21s 491ms/step - loss: 0.6725 - accuracy: 0.5690 - val_loss: 0.6634 - val_accuracy: 0.5660\n",
      "Epoch 4/10\n",
      "43/43 [==============================] - ETA: 0s - loss: 0.6492 - accuracy: 0.5896INFO:tensorflow:Assets written to: .\\checkpoint_mbb\\assets\n",
      "43/43 [==============================] - 21s 493ms/step - loss: 0.6492 - accuracy: 0.5896 - val_loss: 0.6454 - val_accuracy: 0.5918\n",
      "Epoch 5/10\n",
      "43/43 [==============================] - ETA: 0s - loss: 0.6123 - accuracy: 0.6586INFO:tensorflow:Assets written to: .\\checkpoint_mbb\\assets\n",
      "43/43 [==============================] - 22s 511ms/step - loss: 0.6123 - accuracy: 0.6586 - val_loss: 0.6255 - val_accuracy: 0.6381\n",
      "Epoch 6/10\n",
      "43/43 [==============================] - ETA: 0s - loss: 0.5812 - accuracy: 0.6938INFO:tensorflow:Assets written to: .\\checkpoint_mbb\\assets\n",
      "43/43 [==============================] - 21s 491ms/step - loss: 0.5812 - accuracy: 0.6938 - val_loss: 0.6004 - val_accuracy: 0.6432\n",
      "Epoch 7/10\n",
      "43/43 [==============================] - 3s 63ms/step - loss: 0.5442 - accuracy: 0.7217 - val_loss: 0.6097 - val_accuracy: 0.6690\n",
      "Epoch 8/10\n",
      "43/43 [==============================] - ETA: 0s - loss: 0.5119 - accuracy: 0.7489INFO:tensorflow:Assets written to: .\\checkpoint_mbb\\assets\n",
      "43/43 [==============================] - 20s 464ms/step - loss: 0.5119 - accuracy: 0.7489 - val_loss: 0.5990 - val_accuracy: 0.6913\n",
      "Epoch 9/10\n",
      "42/43 [============================>.] - ETA: 0s - loss: 0.4632 - accuracy: 0.7857INFO:tensorflow:Assets written to: .\\checkpoint_mbb\\assets\n",
      "43/43 [==============================] - 22s 518ms/step - loss: 0.4670 - accuracy: 0.7827 - val_loss: 0.5695 - val_accuracy: 0.6878\n",
      "Epoch 10/10\n",
      "43/43 [==============================] - 3s 62ms/step - loss: 0.4209 - accuracy: 0.8223 - val_loss: 0.6013 - val_accuracy: 0.7650\n"
     ]
    },
    {
     "data": {
      "text/plain": [
       "<tensorflow.python.keras.callbacks.History at 0x1e301c75988>"
      ]
     },
     "execution_count": 34,
     "metadata": {},
     "output_type": "execute_result"
    }
   ],
   "source": [
    "# MBB\n",
    "\n",
    "wn_sentiment_model.fit(x_train, \n",
    "                      y_train_mbb, \n",
    "                      validation_data=(x_test,y_test_mbb), \n",
    "                      epochs=10, \n",
    "                      callbacks=model_checkpoint_callback_mbb)"
   ]
  },
  {
   "cell_type": "code",
   "execution_count": 35,
   "metadata": {},
   "outputs": [
    {
     "name": "stdout",
     "output_type": "stream",
     "text": [
      "19/19 - 0s - loss: 0.5695 - accuracy: 0.5540\n"
     ]
    },
    {
     "data": {
      "text/plain": [
       "[0.5694996118545532, 0.5540308952331543]"
      ]
     },
     "execution_count": 35,
     "metadata": {},
     "output_type": "execute_result"
    }
   ],
   "source": [
    "# MBB\n",
    "\n",
    "model_mbb = keras.models.load_model(\"./checkpoint_mbb\")\n",
    "\n",
    "model_mbb.evaluate(x_test,  y_test_mbb, verbose=2)"
   ]
  },
  {
   "cell_type": "code",
   "execution_count": 36,
   "metadata": {},
   "outputs": [],
   "source": [
    "# FBB\n",
    "\n",
    "model_checkpoint_callback_fbb = tf.keras.callbacks.ModelCheckpoint(\n",
    "                                                filepath=\"./checkpoint_fbb\",\n",
    "                                                save_best_only=True)"
   ]
  },
  {
   "cell_type": "code",
   "execution_count": 37,
   "metadata": {},
   "outputs": [
    {
     "name": "stdout",
     "output_type": "stream",
     "text": [
      "Epoch 1/10\n",
      "43/43 [==============================] - ETA: 0s - loss: 0.5748 - accuracy: 0.7981INFO:tensorflow:Assets written to: .\\checkpoint_fbb\\assets\n",
      "43/43 [==============================] - 21s 495ms/step - loss: 0.5748 - accuracy: 0.7981 - val_loss: 0.4501 - val_accuracy: 0.8302\n",
      "Epoch 2/10\n",
      "43/43 [==============================] - 3s 65ms/step - loss: 0.4541 - accuracy: 0.8399 - val_loss: 0.4547 - val_accuracy: 0.8302\n",
      "Epoch 3/10\n",
      "43/43 [==============================] - ETA: 0s - loss: 0.4394 - accuracy: 0.8399 ETA: 0s - loss: 0INFO:tensorflow:Assets written to: .\\checkpoint_fbb\\assets\n",
      "43/43 [==============================] - 21s 487ms/step - loss: 0.4394 - accuracy: 0.8399 - val_loss: 0.4481 - val_accuracy: 0.8302\n",
      "Epoch 4/10\n",
      "43/43 [==============================] - ETA: 0s - loss: 0.4276 - accuracy: 0.8399INFO:tensorflow:Assets written to: .\\checkpoint_fbb\\assets\n",
      "43/43 [==============================] - 21s 491ms/step - loss: 0.4276 - accuracy: 0.8399 - val_loss: 0.4468 - val_accuracy: 0.8302\n",
      "Epoch 5/10\n",
      "43/43 [==============================] - 3s 61ms/step - loss: 0.4067 - accuracy: 0.8414 - val_loss: 0.4607 - val_accuracy: 0.8285\n",
      "Epoch 6/10\n",
      "43/43 [==============================] - 3s 65ms/step - loss: 0.3805 - accuracy: 0.8436 - val_loss: 0.4667 - val_accuracy: 0.8113\n",
      "Epoch 7/10\n",
      "43/43 [==============================] - 3s 62ms/step - loss: 0.3630 - accuracy: 0.8421 - val_loss: 0.4854 - val_accuracy: 0.7804\n",
      "Epoch 8/10\n",
      "43/43 [==============================] - 3s 61ms/step - loss: 0.3368 - accuracy: 0.8532 - val_loss: 0.4681 - val_accuracy: 0.8027\n",
      "Epoch 9/10\n",
      "43/43 [==============================] - 3s 61ms/step - loss: 0.3292 - accuracy: 0.8634 - val_loss: 0.4684 - val_accuracy: 0.7925\n",
      "Epoch 10/10\n",
      "43/43 [==============================] - 3s 61ms/step - loss: 0.2987 - accuracy: 0.8656 - val_loss: 0.5061 - val_accuracy: 0.8096\n"
     ]
    },
    {
     "data": {
      "text/plain": [
       "<tensorflow.python.keras.callbacks.History at 0x1e2fd85a7c8>"
      ]
     },
     "execution_count": 37,
     "metadata": {},
     "output_type": "execute_result"
    }
   ],
   "source": [
    "# FBB\n",
    "\n",
    "wn_sentiment_model.fit(x_train, \n",
    "                      y_train_fbb, \n",
    "                      validation_data=(x_test,y_test_fbb), \n",
    "                      epochs=10, \n",
    "                      callbacks=model_checkpoint_callback_fbb)"
   ]
  },
  {
   "cell_type": "code",
   "execution_count": 38,
   "metadata": {},
   "outputs": [
    {
     "name": "stdout",
     "output_type": "stream",
     "text": [
      "19/19 - 0s - loss: 0.4468 - accuracy: 1.0000\n"
     ]
    },
    {
     "data": {
      "text/plain": [
       "[0.4467894732952118, 1.0]"
      ]
     },
     "execution_count": 38,
     "metadata": {},
     "output_type": "execute_result"
    }
   ],
   "source": [
    "# FBB\n",
    "\n",
    "model_fbb = keras.models.load_model(\"./checkpoint_fbb\")\n",
    "\n",
    "model_fbb.evaluate(x_test,  y_test_fbb, verbose=2)"
   ]
  },
  {
   "cell_type": "code",
   "execution_count": 39,
   "metadata": {},
   "outputs": [],
   "source": [
    "# E-sport\n",
    "\n",
    "model_checkpoint_callback_e_sport = tf.keras.callbacks.ModelCheckpoint(\n",
    "                                                filepath=\"./checkpoint_e_sport\",\n",
    "                                                save_best_only=True)"
   ]
  },
  {
   "cell_type": "code",
   "execution_count": 40,
   "metadata": {},
   "outputs": [
    {
     "name": "stdout",
     "output_type": "stream",
     "text": [
      "Epoch 1/10\n",
      "42/43 [============================>.] - ETA: 0s - loss: 0.1422 - accuracy: 0.9643INFO:tensorflow:Assets written to: .\\checkpoint_e_sport\\assets\n",
      "43/43 [==============================] - 22s 502ms/step - loss: 0.1410 - accuracy: 0.9648 - val_loss: 0.0947 - val_accuracy: 0.9846\n",
      "Epoch 2/10\n",
      "43/43 [==============================] - ETA: 0s - loss: 0.1007 - accuracy: 0.9772INFO:tensorflow:Assets written to: .\\checkpoint_e_sport\\assets\n",
      "43/43 [==============================] - 22s 504ms/step - loss: 0.1007 - accuracy: 0.9772 - val_loss: 0.0685 - val_accuracy: 0.9846\n",
      "Epoch 3/10\n",
      "43/43 [==============================] - 3s 65ms/step - loss: 0.0865 - accuracy: 0.9772 - val_loss: 0.0790 - val_accuracy: 0.9846\n",
      "Epoch 4/10\n",
      "43/43 [==============================] - 3s 62ms/step - loss: 0.0558 - accuracy: 0.9772 - val_loss: 0.0813 - val_accuracy: 0.9846\n",
      "Epoch 5/10\n",
      "43/43 [==============================] - 3s 69ms/step - loss: 0.0392 - accuracy: 0.9765 - val_loss: 0.0978 - val_accuracy: 0.9863\n",
      "Epoch 6/10\n",
      "43/43 [==============================] - 3s 69ms/step - loss: 0.0320 - accuracy: 0.9728 - val_loss: 0.1637 - val_accuracy: 0.9811\n",
      "Epoch 7/10\n",
      "43/43 [==============================] - 3s 67ms/step - loss: 0.0482 - accuracy: 0.9816 - val_loss: 0.1213 - val_accuracy: 0.9708\n",
      "Epoch 8/10\n",
      "43/43 [==============================] - 3s 63ms/step - loss: 0.0344 - accuracy: 0.9809 - val_loss: 0.1504 - val_accuracy: 0.9726\n",
      "Epoch 9/10\n",
      "43/43 [==============================] - 3s 61ms/step - loss: 0.0332 - accuracy: 0.9824 - val_loss: 0.1423 - val_accuracy: 0.9743\n",
      "Epoch 10/10\n",
      "43/43 [==============================] - 3s 62ms/step - loss: 0.0319 - accuracy: 0.9794 - val_loss: 0.1748 - val_accuracy: 0.9708\n"
     ]
    },
    {
     "data": {
      "text/plain": [
       "<tensorflow.python.keras.callbacks.History at 0x1e22da612c8>"
      ]
     },
     "execution_count": 40,
     "metadata": {},
     "output_type": "execute_result"
    }
   ],
   "source": [
    "# E-sport\n",
    "\n",
    "wn_sentiment_model.fit(x_train, \n",
    "                      y_train_e_sport, \n",
    "                      validation_data=(x_test,y_test_e_sport), \n",
    "                      epochs=10, \n",
    "                      callbacks=model_checkpoint_callback_e_sport)"
   ]
  },
  {
   "cell_type": "code",
   "execution_count": 41,
   "metadata": {},
   "outputs": [
    {
     "name": "stdout",
     "output_type": "stream",
     "text": [
      "19/19 - 0s - loss: 0.0685 - accuracy: 1.0000\n"
     ]
    },
    {
     "data": {
      "text/plain": [
       "[0.06852228939533234, 1.0]"
      ]
     },
     "execution_count": 41,
     "metadata": {},
     "output_type": "execute_result"
    }
   ],
   "source": [
    "# E-sport\n",
    "\n",
    "model_e_sport = keras.models.load_model(\"./checkpoint_e_sport\")\n",
    "\n",
    "model_e_sport.evaluate(x_test,  y_test_e_sport, verbose=2)"
   ]
  },
  {
   "cell_type": "code",
   "execution_count": 42,
   "metadata": {},
   "outputs": [],
   "source": [
    "# Other\n",
    "\n",
    "model_checkpoint_callback_other = tf.keras.callbacks.ModelCheckpoint(\n",
    "                                                filepath=\"./checkpoint_other\",\n",
    "                                                save_best_only=True)"
   ]
  },
  {
   "cell_type": "code",
   "execution_count": 43,
   "metadata": {},
   "outputs": [
    {
     "name": "stdout",
     "output_type": "stream",
     "text": [
      "Epoch 1/10\n",
      "43/43 [==============================] - ETA: 0s - loss: 1.1628 - accuracy: 0.6608INFO:tensorflow:Assets written to: .\\checkpoint_other\\assets\n",
      "43/43 [==============================] - 22s 505ms/step - loss: 1.1628 - accuracy: 0.6608 - val_loss: 0.6183 - val_accuracy: 0.6998\n",
      "Epoch 2/10\n",
      "43/43 [==============================] - ETA: 0s - loss: 0.6205 - accuracy: 0.6982INFO:tensorflow:Assets written to: .\\checkpoint_other\\assets\n",
      "43/43 [==============================] - 21s 488ms/step - loss: 0.6205 - accuracy: 0.6982 - val_loss: 0.6175 - val_accuracy: 0.6998\n",
      "Epoch 3/10\n",
      "42/43 [============================>.] - ETA: 0s - loss: 0.6129 - accuracy: 0.6987INFO:tensorflow:Assets written to: .\\checkpoint_other\\assets\n",
      "43/43 [==============================] - 23s 535ms/step - loss: 0.6130 - accuracy: 0.6982 - val_loss: 0.6101 - val_accuracy: 0.6998\n",
      "Epoch 4/10\n",
      "43/43 [==============================] - 3s 71ms/step - loss: 0.6032 - accuracy: 0.6982 - val_loss: 0.6109 - val_accuracy: 0.6998\n",
      "Epoch 5/10\n",
      "43/43 [==============================] - ETA: 0s - loss: 0.5706 - accuracy: 0.6982 ETA: 0s - loss: 0.5688 - accuracy: INFO:tensorflow:Assets written to: .\\checkpoint_other\\assets\n",
      "43/43 [==============================] - 23s 533ms/step - loss: 0.5706 - accuracy: 0.6982 - val_loss: 0.6040 - val_accuracy: 0.6998\n",
      "Epoch 6/10\n",
      "43/43 [==============================] - ETA: 0s - loss: 0.5451 - accuracy: 0.6982INFO:tensorflow:Assets written to: .\\checkpoint_other\\assets\n",
      "43/43 [==============================] - 25s 570ms/step - loss: 0.5451 - accuracy: 0.6982 - val_loss: 0.6009 - val_accuracy: 0.6998\n",
      "Epoch 7/10\n",
      "43/43 [==============================] - 3s 66ms/step - loss: 0.4994 - accuracy: 0.7195 - val_loss: 0.6603 - val_accuracy: 0.7118\n",
      "Epoch 8/10\n",
      "43/43 [==============================] - 3s 68ms/step - loss: 0.4692 - accuracy: 0.7584 - val_loss: 0.6199 - val_accuracy: 0.6003\n",
      "Epoch 9/10\n",
      "43/43 [==============================] - 3s 65ms/step - loss: 0.4551 - accuracy: 0.7819 - val_loss: 0.6560 - val_accuracy: 0.7050\n",
      "Epoch 10/10\n",
      "43/43 [==============================] - ETA: 0s - loss: 0.4113 - accuracy: 0.7915INFO:tensorflow:Assets written to: .\\checkpoint_other\\assets\n",
      "43/43 [==============================] - 23s 527ms/step - loss: 0.4113 - accuracy: 0.7915 - val_loss: 0.5784 - val_accuracy: 0.6775\n"
     ]
    },
    {
     "data": {
      "text/plain": [
       "<tensorflow.python.keras.callbacks.History at 0x1e22e1c9508>"
      ]
     },
     "execution_count": 43,
     "metadata": {},
     "output_type": "execute_result"
    }
   ],
   "source": [
    "# Other\n",
    "\n",
    "wn_sentiment_model.fit(x_train, \n",
    "                      y_train_other, \n",
    "                      validation_data=(x_test,y_test_other), \n",
    "                      epochs=10, \n",
    "                      callbacks=model_checkpoint_callback_other)"
   ]
  },
  {
   "cell_type": "code",
   "execution_count": 44,
   "metadata": {},
   "outputs": [
    {
     "name": "stdout",
     "output_type": "stream",
     "text": [
      "19/19 - 1s - loss: 0.5784 - accuracy: 0.5352\n"
     ]
    },
    {
     "data": {
      "text/plain": [
       "[0.5783796906471252, 0.5351629257202148]"
      ]
     },
     "execution_count": 44,
     "metadata": {},
     "output_type": "execute_result"
    }
   ],
   "source": [
    "# Other\n",
    "\n",
    "model_other = keras.models.load_model(\"./checkpoint_other\")\n",
    "\n",
    "model_other.evaluate(x_test,  y_test_other, verbose=2)"
   ]
  },
  {
   "cell_type": "markdown",
   "metadata": {},
   "source": [
    "# Model f1-score"
   ]
  },
  {
   "cell_type": "code",
   "execution_count": null,
   "metadata": {},
   "outputs": [],
   "source": [
    "x_train = np.array(x_train)\n",
    "x_test = np.array(x_test)\n",
    "\n",
    "y_train_tv = np.array(y_train_tv)\n",
    "y_test_tv = np.array(y_test_tv)\n",
    "y_train_fintech = np.array(y_train_fintech)\n",
    "y_test_fintech = np.array(y_test_fintech)\n",
    "y_train_iot = np.array(y_train_iot)\n",
    "y_test_iot = np.array(y_test_iot)\n",
    "y_train_insurance = np.array(y_train_insurance)\n",
    "y_test_insurance = np.array(y_test_insurance)\n",
    "y_train_mbb = np.array(y_train_mbb)\n",
    "y_test_mbb = np.array(y_test_mbb)\n",
    "y_train_fbb = np.array(y_train_fbb)\n",
    "y_test_fbb = np.array(y_test_fbb)\n",
    "y_train_e_sport = np.array(y_train_e_sport)\n",
    "y_test_e_sport = np.array(y_test_e_sport)\n",
    "y_train_other = np.array(y_train_other)\n",
    "y_test_other = np.array(y_test_other)"
   ]
  },
  {
   "cell_type": "code",
   "execution_count": 4,
   "metadata": {},
   "outputs": [],
   "source": [
    "model_tv = keras.models.load_model(\"./checkpoint_tv\")\n",
    "model_fintech = keras.models.load_model(\"./checkpoint_fintech\")\n",
    "model_iot = keras.models.load_model(\"./checkpoint_iot\")\n",
    "model_insurance = keras.models.load_model(\"./checkpoint_insurance\")\n",
    "model_mbb = keras.models.load_model(\"./checkpoint_mbb\")\n",
    "model_fbb = keras.models.load_model(\"./checkpoint_fbb\")\n",
    "model_e_sport = keras.models.load_model(\"./checkpoint_e_sport\")\n",
    "model_other = keras.models.load_model(\"./checkpoint_other\")"
   ]
  },
  {
   "cell_type": "code",
   "execution_count": 5,
   "metadata": {},
   "outputs": [],
   "source": [
    "from sklearn.metrics import f1_score\n",
    "from sklearn.metrics import average_precision_score"
   ]
  },
  {
   "cell_type": "markdown",
   "metadata": {},
   "source": [
    "TV model"
   ]
  },
  {
   "cell_type": "code",
   "execution_count": 23,
   "metadata": {},
   "outputs": [
    {
     "name": "stdout",
     "output_type": "stream",
     "text": [
      "f1-score : 0.6925461444465881\n",
      "precision : 0.2349045206658195\n"
     ]
    }
   ],
   "source": [
    "pred = np.argmax(model_tv.predict(x_test), axis=1)  # from log probabilities to 0 or 1\n",
    "print(\"f1-score :\",f1_score(y_test_tv, pred, average='macro'))\n",
    "print(\"precision :\",average_precision_score(y_test_tv, pred))"
   ]
  },
  {
   "cell_type": "markdown",
   "metadata": {},
   "source": [
    "Fintech model"
   ]
  },
  {
   "cell_type": "code",
   "execution_count": 24,
   "metadata": {},
   "outputs": [
    {
     "name": "stdout",
     "output_type": "stream",
     "text": [
      "f1-score : 0.47899910634495085\n",
      "precision : 0.08061749571183534\n"
     ]
    }
   ],
   "source": [
    "pred = np.argmax(model_fintech.predict(x_test), axis=1)  # from log probabilities to 0 or 1\n",
    "print(\"f1-score :\",f1_score(y_test_fintech, pred, average='macro'))\n",
    "print(\"precision :\",average_precision_score(y_test_fintech, pred))"
   ]
  },
  {
   "cell_type": "markdown",
   "metadata": {},
   "source": [
    "IoT model"
   ]
  },
  {
   "cell_type": "code",
   "execution_count": 25,
   "metadata": {},
   "outputs": [
    {
     "name": "stdout",
     "output_type": "stream",
     "text": [
      "f1-score : 0.45155221072436497\n",
      "precision : 0.17667238421955403\n"
     ]
    }
   ],
   "source": [
    "pred = np.argmax(model_iot.predict(x_test), axis=1)  # from log probabilities to 0 or 1\n",
    "print(\"f1-score :\",f1_score(y_test_iot, pred, average='macro'))\n",
    "print(\"precision :\",average_precision_score(y_test_iot, pred))"
   ]
  },
  {
   "cell_type": "markdown",
   "metadata": {},
   "source": [
    "Insurance Model"
   ]
  },
  {
   "cell_type": "code",
   "execution_count": 26,
   "metadata": {},
   "outputs": [
    {
     "name": "stdout",
     "output_type": "stream",
     "text": [
      "f1-score : 0.4908296943231441\n",
      "precision : 0.036020583190394515\n"
     ]
    }
   ],
   "source": [
    "pred = np.argmax(model_insurance.predict(x_test), axis=1)  # from log probabilities to 0 or 1\n",
    "print(\"f1-score :\",f1_score(y_test_insurance, pred, average='macro'))\n",
    "print(\"precision :\",average_precision_score(y_test_insurance, pred))"
   ]
  },
  {
   "cell_type": "markdown",
   "metadata": {},
   "source": [
    "MBB Model"
   ]
  },
  {
   "cell_type": "code",
   "execution_count": 27,
   "metadata": {},
   "outputs": [
    {
     "name": "stdout",
     "output_type": "stream",
     "text": [
      "f1-score : 0.6877766007532957\n",
      "precision : 0.7011584641773321\n"
     ]
    }
   ],
   "source": [
    "pred = np.argmax(model_mbb.predict(x_test), axis=1)  # from log probabilities to 0 or 1\n",
    "print(\"f1-score :\",f1_score(y_test_mbb, pred, average='macro'))\n",
    "print(\"precision :\",average_precision_score(y_test_mbb, pred))"
   ]
  },
  {
   "cell_type": "markdown",
   "metadata": {},
   "source": [
    "FBB Model"
   ]
  },
  {
   "cell_type": "code",
   "execution_count": 31,
   "metadata": {},
   "outputs": [
    {
     "name": "stdout",
     "output_type": "stream",
     "text": [
      "f1-score : 0.6586821126058794\n",
      "precision : 0.4297931101830008\n"
     ]
    }
   ],
   "source": [
    "pred = np.argmax(model_other.predict(x_test), axis=1)  # from log probabilities to 0 or 1\n",
    "print(\"f1-score :\",f1_score(y_test_other, pred, average='macro'))\n",
    "print(\"precision :\",average_precision_score(y_test_other, pred))"
   ]
  },
  {
   "cell_type": "markdown",
   "metadata": {},
   "source": [
    "E-sport Model"
   ]
  },
  {
   "cell_type": "code",
   "execution_count": 30,
   "metadata": {},
   "outputs": [
    {
     "name": "stdout",
     "output_type": "stream",
     "text": [
      "f1-score : 0.49611063094209157\n",
      "precision : 0.015437392795883362\n"
     ]
    }
   ],
   "source": [
    "pred = np.argmax(model_e_sport.predict(x_test), axis=1)  # from log probabilities to 0 or 1\n",
    "print(\"f1-score :\",f1_score(y_test_e_sport, pred, average='macro'))\n",
    "print(\"precision :\",average_precision_score(y_test_e_sport, pred))"
   ]
  },
  {
   "cell_type": "markdown",
   "metadata": {},
   "source": [
    "Others model"
   ]
  },
  {
   "cell_type": "code",
   "execution_count": 82,
   "metadata": {},
   "outputs": [
    {
     "name": "stdout",
     "output_type": "stream",
     "text": [
      "f1-score : 0.6586821126058794\n",
      "precision : 0.4297931101830008\n"
     ]
    }
   ],
   "source": [
    "pred = np.argmax(model_other.predict(x_test), axis=1)  # from log probabilities to 0 or 1\n",
    "print(\"f1-score :\",f1_score(y_test_other, pred, average='macro'))\n",
    "print(\"precision :\",average_precision_score(y_test_other, pred))"
   ]
  }
 ],
 "metadata": {
  "kernelspec": {
   "display_name": "Python 3",
   "language": "python",
   "name": "python3"
  },
  "language_info": {
   "codemirror_mode": {
    "name": "ipython",
    "version": 3
   },
   "file_extension": ".py",
   "mimetype": "text/x-python",
   "name": "python",
   "nbconvert_exporter": "python",
   "pygments_lexer": "ipython3",
   "version": "3.7.4"
  }
 },
 "nbformat": 4,
 "nbformat_minor": 2
}
